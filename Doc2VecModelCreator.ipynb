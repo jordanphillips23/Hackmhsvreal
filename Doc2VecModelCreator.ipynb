{
 "cells": [
  {
   "cell_type": "code",
   "execution_count": null,
   "metadata": {},
   "outputs": [
    {
     "name": "stdout",
     "output_type": "stream",
     "text": [
      "model inited\n"
     ]
    }
   ],
   "source": [
    "import csv\n",
    "import gensim\n",
    "\n",
    "class LabeledLineSentence(object):\n",
    "    def __init__(self, doc_list, labels_list):\n",
    "        self.labels_list = labels_list\n",
    "        self.doc_list = doc_list\n",
    "    def __iter__(self):\n",
    "        for idx, doc in enumerate(self.doc_list):\n",
    "              yield gensim.models.doc2vec.TaggedDocument(doc, [self.labels_list[idx]])\n",
    "\n",
    "docLabels = []\n",
    "data = []\n",
    "with open('clean_data.csv', 'r', encoding='utf-8') as f:\n",
    "    reader = csv.DictReader(f)\n",
    "    for row in reader:\n",
    "        docLabels.append(row['docID'])\n",
    "        data.append(row['text'])\n",
    "\n",
    "lls = LabeledLineSentence(data, docLabels)\n",
    "\n",
    "model = gensim.models.Doc2Vec(lls, vector_size=600, alpha = 0.025, min_alpha = 1e-3, window=8, min_count=0, workers=4)\n",
    "print(\"model inited\")\n",
    "model.train(lls, total_examples = model.corpus_count, report_delay=5, epochs = 50 )\n",
    "    \n",
    "model.save(\"doc2vec600?.model\")"
   ]
  },
  {
   "cell_type": "code",
   "execution_count": null,
   "metadata": {},
   "outputs": [],
   "source": []
  },
  {
   "cell_type": "code",
   "execution_count": null,
   "metadata": {},
   "outputs": [],
   "source": []
  }
 ],
 "metadata": {
  "kernelspec": {
   "display_name": "Python 3",
   "language": "python",
   "name": "python3"
  },
  "language_info": {
   "codemirror_mode": {
    "name": "ipython",
    "version": 3
   },
   "file_extension": ".py",
   "mimetype": "text/x-python",
   "name": "python",
   "nbconvert_exporter": "python",
   "pygments_lexer": "ipython3",
   "version": "3.6.4"
  }
 },
 "nbformat": 4,
 "nbformat_minor": 2
}
