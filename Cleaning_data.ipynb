{
 "cells": [
  {
   "cell_type": "code",
   "execution_count": 4,
   "metadata": {},
   "outputs": [],
   "source": [
    "import csv\n",
    "from nltk.tokenize import word_tokenize\n",
    "from nltk.stem import WordNetLemmatizer\n",
    "from nltk.corpus import stopwords\n",
    "\n",
    "def clean(sentence):\n",
    "    \n",
    "    #Make it lowercase\n",
    "    new_sentence = sentence.lower()\n",
    "    \n",
    "    #split it by word\n",
    "    new_sentence = word_tokenize(new_sentence)\n",
    "    \n",
    "    #lemmatize\n",
    "    l_sentence = []\n",
    "    lemmatizer = WordNetLemmatizer()\n",
    "    for word in new_sentence:\n",
    "        word = lemmatizer.lemmatize(word, pos = 'a')\n",
    "        word = lemmatizer.lemmatize(word, pos = 'v')\n",
    "        word = lemmatizer.lemmatize(word, pos = 'n')\n",
    "        \n",
    "        l_sentence.append(word)\n",
    "        \n",
    "    #take out stopwords\n",
    "    noStop_sentence = [w for w in l_sentence if not w in stop_words]\n",
    "     \n",
    "    return noStop_sentence    \n",
    "    #return \" \".join(noStop_sentence)\n",
    "        \n",
    "\n",
    "    \n",
    "stop_words = set(stopwords.words('english'))\n",
    "\n",
    "#take both files and combine them into one\n",
    "#take that new file and clean out all the text using nltk\n",
    "\n",
    "clean_data_file = open('clean_data_tokenized.csv', 'w', encoding = 'utf-8')\n",
    "\n",
    "fields = ['docID', 'name', 'text', 'label']\n",
    "writer = csv.DictWriter(clean_data_file, fieldnames = fields)\n",
    "writer.writeheader()\n",
    "\n",
    "with open('final_data_file.csv', 'r', encoding = 'utf-8') as final_data_file:\n",
    "    reader = csv.DictReader(final_data_file)\n",
    "    for row in reader:\n",
    "        writer.writerow({'docID':row['docID'], 'name':row['name'], 'text':clean(row['text']), 'label':row['label']})\n"
   ]
  },
  {
   "cell_type": "code",
   "execution_count": null,
   "metadata": {},
   "outputs": [],
   "source": []
  }
 ],
 "metadata": {
  "kernelspec": {
   "display_name": "Python 3",
   "language": "python",
   "name": "python3"
  },
  "language_info": {
   "codemirror_mode": {
    "name": "ipython",
    "version": 3
   },
   "file_extension": ".py",
   "mimetype": "text/x-python",
   "name": "python",
   "nbconvert_exporter": "python",
   "pygments_lexer": "ipython3",
   "version": "3.6.4"
  }
 },
 "nbformat": 4,
 "nbformat_minor": 2
}
