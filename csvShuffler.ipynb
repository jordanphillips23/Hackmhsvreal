{
 "cells": [
  {
   "cell_type": "code",
   "execution_count": 6,
   "metadata": {},
   "outputs": [],
   "source": [
    "import random\n",
    "fid = open(\"clean_data_tokenized.csv\", \"r\")\n",
    "li = fid.readlines()\n",
    "header = li[0]\n",
    "li.remove(li[0])\n",
    "fid.close()\n",
    "\n",
    "random.shuffle(li)\n",
    "\n",
    "fid = open(\"shuffled_clean_data_tokenized.csv\", \"w\")\n",
    "fid.write(header)\n",
    "fid.writelines(li)\n",
    "fid.close()\n"
   ]
  },
  {
   "cell_type": "code",
   "execution_count": null,
   "metadata": {},
   "outputs": [],
   "source": []
  }
 ],
 "metadata": {
  "kernelspec": {
   "display_name": "Python 3",
   "language": "python",
   "name": "python3"
  },
  "language_info": {
   "codemirror_mode": {
    "name": "ipython",
    "version": 3
   },
   "file_extension": ".py",
   "mimetype": "text/x-python",
   "name": "python",
   "nbconvert_exporter": "python",
   "pygments_lexer": "ipython3",
   "version": "3.6.4"
  }
 },
 "nbformat": 4,
 "nbformat_minor": 2
}
